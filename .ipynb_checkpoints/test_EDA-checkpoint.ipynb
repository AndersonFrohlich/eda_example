{
 "cells": [
  {
   "cell_type": "code",
   "execution_count": 62,
   "id": "52f9fa11-7630-48bc-9db1-5ae033146e8a",
   "metadata": {},
   "outputs": [],
   "source": [
    "import pandas as pd\n",
    "import numpy as np\n",
    "import seaborn as sns\n",
    "import matplotlib.pyplot as plt\n",
    "%matplotlib inline\n",
    "sns.set(color_codes=True)"
   ]
  },
  {
   "cell_type": "code",
   "execution_count": 63,
   "id": "67790d5a-7356-4b44-8ad2-f9e37856d090",
   "metadata": {},
   "outputs": [
    {
     "data": {
      "text/html": [
       "<div>\n",
       "<style scoped>\n",
       "    .dataframe tbody tr th:only-of-type {\n",
       "        vertical-align: middle;\n",
       "    }\n",
       "\n",
       "    .dataframe tbody tr th {\n",
       "        vertical-align: top;\n",
       "    }\n",
       "\n",
       "    .dataframe thead th {\n",
       "        text-align: right;\n",
       "    }\n",
       "</style>\n",
       "<table border=\"1\" class=\"dataframe\">\n",
       "  <thead>\n",
       "    <tr style=\"text-align: right;\">\n",
       "      <th></th>\n",
       "      <th>InstanceID</th>\n",
       "      <th>Activity short</th>\n",
       "      <th>Activity</th>\n",
       "      <th>Responsibles</th>\n",
       "      <th>Employee</th>\n",
       "    </tr>\n",
       "  </thead>\n",
       "  <tbody>\n",
       "    <tr>\n",
       "      <th>0</th>\n",
       "      <td>1</td>\n",
       "      <td>A</td>\n",
       "      <td>Delivery of the goods</td>\n",
       "      <td>Spedition</td>\n",
       "      <td>Mair</td>\n",
       "    </tr>\n",
       "    <tr>\n",
       "      <th>1</th>\n",
       "      <td>1</td>\n",
       "      <td>B</td>\n",
       "      <td>Control of the packaging</td>\n",
       "      <td>Warenannahme I</td>\n",
       "      <td>Mirski</td>\n",
       "    </tr>\n",
       "    <tr>\n",
       "      <th>2</th>\n",
       "      <td>1</td>\n",
       "      <td>C</td>\n",
       "      <td>Control of the goods against the delivery note...</td>\n",
       "      <td>Warenannahme II</td>\n",
       "      <td>Junghans</td>\n",
       "    </tr>\n",
       "    <tr>\n",
       "      <th>3</th>\n",
       "      <td>1</td>\n",
       "      <td>D</td>\n",
       "      <td>Assignment of the delivery note to the PO (Pur...</td>\n",
       "      <td>Buchhaltung</td>\n",
       "      <td>Haberkorn</td>\n",
       "    </tr>\n",
       "    <tr>\n",
       "      <th>4</th>\n",
       "      <td>1</td>\n",
       "      <td>E</td>\n",
       "      <td>Quality control</td>\n",
       "      <td>QM-Manager</td>\n",
       "      <td>Lustig</td>\n",
       "    </tr>\n",
       "  </tbody>\n",
       "</table>\n",
       "</div>"
      ],
      "text/plain": [
       "   InstanceID Activity short  \\\n",
       "0           1              A   \n",
       "1           1              B   \n",
       "2           1              C   \n",
       "3           1              D   \n",
       "4           1              E   \n",
       "\n",
       "                                            Activity     Responsibles  \\\n",
       "0                              Delivery of the goods        Spedition   \n",
       "1                           Control of the packaging   Warenannahme I   \n",
       "2  Control of the goods against the delivery note...  Warenannahme II   \n",
       "3  Assignment of the delivery note to the PO (Pur...      Buchhaltung   \n",
       "4                                    Quality control       QM-Manager   \n",
       "\n",
       "    Employee  \n",
       "0       Mair  \n",
       "1     Mirski  \n",
       "2   Junghans  \n",
       "3  Haberkorn  \n",
       "4     Lustig  "
      ]
     },
     "execution_count": 63,
     "metadata": {},
     "output_type": "execute_result"
    }
   ],
   "source": [
    "df1 = pd.read_csv(\"test.csv\")\n",
    "df1.head(5)"
   ]
  },
  {
   "cell_type": "code",
   "execution_count": 64,
   "id": "f188e272-61a9-48a0-af43-8c5940fbcb4d",
   "metadata": {},
   "outputs": [
    {
     "data": {
      "text/plain": [
       "InstanceID         int64\n",
       "Activity short    object\n",
       "Activity          object\n",
       "Responsibles      object\n",
       "Employee          object\n",
       "dtype: object"
      ]
     },
     "execution_count": 64,
     "metadata": {},
     "output_type": "execute_result"
    }
   ],
   "source": [
    "df1.dtypes"
   ]
  },
  {
   "cell_type": "code",
   "execution_count": 65,
   "id": "faea941a-1a9d-4dc4-8548-73edcf0e8e51",
   "metadata": {},
   "outputs": [
    {
     "data": {
      "text/html": [
       "<div>\n",
       "<style scoped>\n",
       "    .dataframe tbody tr th:only-of-type {\n",
       "        vertical-align: middle;\n",
       "    }\n",
       "\n",
       "    .dataframe tbody tr th {\n",
       "        vertical-align: top;\n",
       "    }\n",
       "\n",
       "    .dataframe thead th {\n",
       "        text-align: right;\n",
       "    }\n",
       "</style>\n",
       "<table border=\"1\" class=\"dataframe\">\n",
       "  <thead>\n",
       "    <tr style=\"text-align: right;\">\n",
       "      <th></th>\n",
       "      <th>InstanceID</th>\n",
       "      <th>Activity short</th>\n",
       "      <th>Activity</th>\n",
       "      <th>Responsibles</th>\n",
       "      <th>Employee</th>\n",
       "    </tr>\n",
       "  </thead>\n",
       "  <tbody>\n",
       "    <tr>\n",
       "      <th>34</th>\n",
       "      <td>7</td>\n",
       "      <td>C</td>\n",
       "      <td>Control of the goods against the delivery note...</td>\n",
       "      <td>Warenannahme II</td>\n",
       "      <td>Junghans</td>\n",
       "    </tr>\n",
       "    <tr>\n",
       "      <th>35</th>\n",
       "      <td>7</td>\n",
       "      <td>D</td>\n",
       "      <td>Assignment of the delivery note to the PO (Pur...</td>\n",
       "      <td>Buchhaltung</td>\n",
       "      <td>Altmann</td>\n",
       "    </tr>\n",
       "    <tr>\n",
       "      <th>36</th>\n",
       "      <td>7</td>\n",
       "      <td>E</td>\n",
       "      <td>Quality control</td>\n",
       "      <td>QM-Manager</td>\n",
       "      <td>Lustig</td>\n",
       "    </tr>\n",
       "    <tr>\n",
       "      <th>37</th>\n",
       "      <td>7</td>\n",
       "      <td>E</td>\n",
       "      <td>Quality control</td>\n",
       "      <td>QM-Manager</td>\n",
       "      <td>Lustig</td>\n",
       "    </tr>\n",
       "    <tr>\n",
       "      <th>38</th>\n",
       "      <td>7</td>\n",
       "      <td>F</td>\n",
       "      <td>Store in the warehouse</td>\n",
       "      <td>Lagerist</td>\n",
       "      <td>Dilger</td>\n",
       "    </tr>\n",
       "  </tbody>\n",
       "</table>\n",
       "</div>"
      ],
      "text/plain": [
       "    InstanceID Activity short  \\\n",
       "34           7              C   \n",
       "35           7              D   \n",
       "36           7              E   \n",
       "37           7              E   \n",
       "38           7              F   \n",
       "\n",
       "                                             Activity     Responsibles  \\\n",
       "34  Control of the goods against the delivery note...  Warenannahme II   \n",
       "35  Assignment of the delivery note to the PO (Pur...      Buchhaltung   \n",
       "36                                    Quality control       QM-Manager   \n",
       "37                                    Quality control       QM-Manager   \n",
       "38                             Store in the warehouse         Lagerist   \n",
       "\n",
       "    Employee  \n",
       "34  Junghans  \n",
       "35   Altmann  \n",
       "36    Lustig  \n",
       "37    Lustig  \n",
       "38    Dilger  "
      ]
     },
     "execution_count": 65,
     "metadata": {},
     "output_type": "execute_result"
    }
   ],
   "source": [
    "df1.tail(5)"
   ]
  },
  {
   "cell_type": "code",
   "execution_count": 66,
   "id": "cfc3f057-eabf-46df-9700-9c3d7e3f0b98",
   "metadata": {},
   "outputs": [
    {
     "data": {
      "text/plain": [
       "(39, 5)"
      ]
     },
     "execution_count": 66,
     "metadata": {},
     "output_type": "execute_result"
    }
   ],
   "source": [
    "df1.shape"
   ]
  },
  {
   "cell_type": "code",
   "execution_count": 67,
   "id": "faadc4a8-889a-45a1-b66f-8bdfb33b2029",
   "metadata": {},
   "outputs": [
    {
     "data": {
      "text/html": [
       "<div>\n",
       "<style scoped>\n",
       "    .dataframe tbody tr th:only-of-type {\n",
       "        vertical-align: middle;\n",
       "    }\n",
       "\n",
       "    .dataframe tbody tr th {\n",
       "        vertical-align: top;\n",
       "    }\n",
       "\n",
       "    .dataframe thead th {\n",
       "        text-align: right;\n",
       "    }\n",
       "</style>\n",
       "<table border=\"1\" class=\"dataframe\">\n",
       "  <thead>\n",
       "    <tr style=\"text-align: right;\">\n",
       "      <th></th>\n",
       "      <th>InstanceID</th>\n",
       "      <th>Activity short</th>\n",
       "      <th>Activity</th>\n",
       "      <th>Responsibles</th>\n",
       "      <th>Employee</th>\n",
       "    </tr>\n",
       "  </thead>\n",
       "  <tbody>\n",
       "    <tr>\n",
       "      <th>0</th>\n",
       "      <td>1</td>\n",
       "      <td>A</td>\n",
       "      <td>Delivery of the goods</td>\n",
       "      <td>Spedition</td>\n",
       "      <td>Mair</td>\n",
       "    </tr>\n",
       "    <tr>\n",
       "      <th>1</th>\n",
       "      <td>1</td>\n",
       "      <td>B</td>\n",
       "      <td>Control of the packaging</td>\n",
       "      <td>Warenannahme I</td>\n",
       "      <td>Mirski</td>\n",
       "    </tr>\n",
       "    <tr>\n",
       "      <th>2</th>\n",
       "      <td>1</td>\n",
       "      <td>C</td>\n",
       "      <td>Control of the goods against the delivery note...</td>\n",
       "      <td>Warenannahme II</td>\n",
       "      <td>Junghans</td>\n",
       "    </tr>\n",
       "    <tr>\n",
       "      <th>3</th>\n",
       "      <td>1</td>\n",
       "      <td>D</td>\n",
       "      <td>Assignment of the delivery note to the PO (Pur...</td>\n",
       "      <td>Buchhaltung</td>\n",
       "      <td>Haberkorn</td>\n",
       "    </tr>\n",
       "    <tr>\n",
       "      <th>4</th>\n",
       "      <td>1</td>\n",
       "      <td>E</td>\n",
       "      <td>Quality control</td>\n",
       "      <td>QM-Manager</td>\n",
       "      <td>Lustig</td>\n",
       "    </tr>\n",
       "  </tbody>\n",
       "</table>\n",
       "</div>"
      ],
      "text/plain": [
       "   InstanceID Activity short  \\\n",
       "0           1              A   \n",
       "1           1              B   \n",
       "2           1              C   \n",
       "3           1              D   \n",
       "4           1              E   \n",
       "\n",
       "                                            Activity     Responsibles  \\\n",
       "0                              Delivery of the goods        Spedition   \n",
       "1                           Control of the packaging   Warenannahme I   \n",
       "2  Control of the goods against the delivery note...  Warenannahme II   \n",
       "3  Assignment of the delivery note to the PO (Pur...      Buchhaltung   \n",
       "4                                    Quality control       QM-Manager   \n",
       "\n",
       "    Employee  \n",
       "0       Mair  \n",
       "1     Mirski  \n",
       "2   Junghans  \n",
       "3  Haberkorn  \n",
       "4     Lustig  "
      ]
     },
     "execution_count": 67,
     "metadata": {},
     "output_type": "execute_result"
    }
   ],
   "source": [
    "df1 = df1.rename({\"InstanceID\": \"ID\"})\n",
    "df1.head(5)"
   ]
  },
  {
   "cell_type": "code",
   "execution_count": 68,
   "id": "a821dffa-5ebf-4e12-945a-1f5ffa70051f",
   "metadata": {},
   "outputs": [
    {
     "name": "stdout",
     "output_type": "stream",
     "text": [
      "InstanceID        0\n",
      "Activity short    0\n",
      "Activity          0\n",
      "Responsibles      0\n",
      "Employee          0\n",
      "dtype: int64\n"
     ]
    }
   ],
   "source": [
    "print(df1.isnull().sum())"
   ]
  },
  {
   "cell_type": "code",
   "execution_count": 70,
   "id": "6078ee94-be60-4bbb-ab9a-fad76c350070",
   "metadata": {},
   "outputs": [
    {
     "data": {
      "text/plain": [
       "<AxesSubplot:xlabel='InstanceID'>"
      ]
     },
     "execution_count": 70,
     "metadata": {},
     "output_type": "execute_result"
    },
    {
     "data": {
      "image/png": "[encoded data removed]",
      "text/plain": [
       "<Figure size 432x288 with 1 Axes>"
      ]
     },
     "metadata": {},
     "output_type": "display_data"
    }
   ],
   "source": [
    "sns.boxplot(x=df1['InstanceID'])"
   ]
  },
  {
   "cell_type": "code",
   "execution_count": null,
   "id": "0fa24b7e-57c7-4145-9d4b-b1972c8dc5f8",
   "metadata": {},
   "outputs": [],
   "source": []
  }
 ],
 "metadata": {
  "kernelspec": {
   "display_name": "Python",
   "language": "python",
   "name": "conda-env-python-py"
  },
  "language_info": {
   "codemirror_mode": {
    "name": "ipython",
    "version": 3
   },
   "file_extension": ".py",
   "mimetype": "text/x-python",
   "name": "python",
   "nbconvert_exporter": "python",
   "pygments_lexer": "ipython3",
   "version": "3.6.13"
  }
 },
 "nbformat": 4,
 "nbformat_minor": 5
}
